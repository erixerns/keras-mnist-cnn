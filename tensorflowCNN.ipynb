{
 "cells": [
  {
   "cell_type": "markdown",
   "metadata": {},
   "source": [
    "# Tensorflow CNN for MNIST"
   ]
  },
  {
   "cell_type": "code",
   "execution_count": 1,
   "metadata": {},
   "outputs": [
    {
     "name": "stderr",
     "output_type": "stream",
     "text": [
      "Using TensorFlow backend.\n"
     ]
    },
    {
     "data": {
      "image/png": "[encoded data removed]",
      "text/plain": [
       "<Figure size 432x288 with 1 Axes>"
      ]
     },
     "metadata": {
      "needs_background": "light"
     },
     "output_type": "display_data"
    }
   ],
   "source": [
    "%matplotlib inline\n",
    "import tensorflow as tf\n",
    "from matplotlib import pyplot as plt\n",
    "from keras.models import Sequential\n",
    "from keras.layers import Conv2D, MaxPooling2D, Dense, Dropout, Flatten\n",
    "tf.logging.set_verbosity(tf.logging.ERROR)  \n",
    "\n",
    "(x_train, y_train), (x_test, y_test) = tf.keras.datasets.mnist.load_data()\n",
    "\n",
    "\n",
    "imageIndex = 777\n",
    "plt.imshow(x_train[imageIndex])\n",
    "plt.title(y_train[imageIndex], y=-0.1)\n",
    "plt.axis(\"off\")\n",
    "plt.show()"
   ]
  },
  {
   "cell_type": "code",
   "execution_count": 2,
   "metadata": {},
   "outputs": [
    {
     "data": {
      "text/plain": [
       "(60000, 28, 28)"
      ]
     },
     "execution_count": 2,
     "metadata": {},
     "output_type": "execute_result"
    }
   ],
   "source": [
    "x_train.shape"
   ]
  },
  {
   "cell_type": "code",
   "execution_count": 3,
   "metadata": {},
   "outputs": [
    {
     "name": "stdout",
     "output_type": "stream",
     "text": [
      "X Train shape: (60000, 28, 28, 1)\n",
      "Number of images in x_train: 60000, number of images in x_test: 10000\n"
     ]
    }
   ],
   "source": [
    "x_train = x_train.reshape(-1, 28, 28, 1)\n",
    "x_test = x_test.reshape(-1, 28, 28, 1)\n",
    "inputShape = (28, 28, 1)\n",
    "\n",
    "x_train = x_train.astype(\"float32\")\n",
    "x_test = x_test.astype(\"float32\")\n",
    "\n",
    "x_train /= 255\n",
    "x_test /= 255\n",
    "\n",
    "print(\"X Train shape: {}\".format(x_train.shape))\n",
    "print(\"Number of images in x_train: {}, number of images in x_test: {}\".format(x_train.shape[0], x_test.shape[0]))"
   ]
  },
  {
   "cell_type": "markdown",
   "metadata": {},
   "source": [
    "# Make model"
   ]
  },
  {
   "cell_type": "code",
   "execution_count": 4,
   "metadata": {},
   "outputs": [
    {
     "name": "stdout",
     "output_type": "stream",
     "text": [
      "Epoch 1/10\n",
      "60000/60000 [==============================] - 25s 409us/step - loss: 0.2051 - acc: 0.9380\n",
      "Epoch 2/10\n",
      "60000/60000 [==============================] - 26s 427us/step - loss: 0.0846 - acc: 0.9739\n",
      "Epoch 3/10\n",
      "60000/60000 [==============================] - 24s 397us/step - loss: 0.0573 - acc: 0.9819\n",
      "Epoch 4/10\n",
      "60000/60000 [==============================] - 28s 459us/step - loss: 0.0455 - acc: 0.9853\n",
      "Epoch 5/10\n",
      "60000/60000 [==============================] - 27s 453us/step - loss: 0.0345 - acc: 0.9887\n",
      "Epoch 6/10\n",
      "60000/60000 [==============================] - 24s 392us/step - loss: 0.0279 - acc: 0.9909\n",
      "Epoch 7/10\n",
      "60000/60000 [==============================] - 24s 400us/step - loss: 0.0248 - acc: 0.9917\n",
      "Epoch 8/10\n",
      "60000/60000 [==============================] - 25s 423us/step - loss: 0.0214 - acc: 0.9929\n",
      "Epoch 9/10\n",
      "60000/60000 [==============================] - 24s 399us/step - loss: 0.0195 - acc: 0.9933\n",
      "Epoch 10/10\n",
      "60000/60000 [==============================] - 24s 399us/step - loss: 0.0174 - acc: 0.9942\n"
     ]
    },
    {
     "data": {
      "text/plain": [
       "<keras.callbacks.History at 0x7f7fb909a940>"
      ]
     },
     "execution_count": 4,
     "metadata": {},
     "output_type": "execute_result"
    }
   ],
   "source": [
    "import warnings\n",
    "warnings.filterwarnings('ignore')\n",
    "\n",
    "# CNN With 1 Conv layer and 1 max pool layer\n",
    "model = Sequential()\n",
    "model.add(Conv2D(28, kernel_size = (3,3), input_shape=inputShape))\n",
    "model.add(MaxPooling2D(pool_size=(2,2)))\n",
    "\n",
    "# Fully connected neural network\n",
    "model.add(Flatten())\n",
    "model.add(Dense(128, activation=tf.nn.relu))\n",
    "model.add(Dropout(0.2))\n",
    "model.add(Dense(10, activation=tf.nn.softmax))\n",
    "\n",
    "\n",
    "model.compile(optimizer='adam', loss='sparse_categorical_crossentropy', metrics=['accuracy'])\n",
    "model.fit(x=x_train, y=y_train, epochs=10)"
   ]
  },
  {
   "cell_type": "code",
   "execution_count": 13,
   "metadata": {},
   "outputs": [
    {
     "name": "stdout",
     "output_type": "stream",
     "text": [
      "10000/10000 [==============================] - 2s 156us/step\n"
     ]
    },
    {
     "data": {
      "text/plain": [
       "'Loss: 0.06114918912611029, accuracy: 0.9847'"
      ]
     },
     "execution_count": 13,
     "metadata": {},
     "output_type": "execute_result"
    }
   ],
   "source": [
    "\"Loss: {0[0]}, accuracy: {0[1]}\".format(model.evaluate(x_test, y_test))"
   ]
  }
 ],
 "metadata": {
  "kernelspec": {
   "display_name": "Python 3",
   "language": "python",
   "name": "python3"
  },
  "language_info": {
   "codemirror_mode": {
    "name": "ipython",
    "version": 3
   },
   "file_extension": ".py",
   "mimetype": "text/x-python",
   "name": "python",
   "nbconvert_exporter": "python",
   "pygments_lexer": "ipython3",
   "version": "3.7.3"
  }
 },
 "nbformat": 4,
 "nbformat_minor": 2
}
